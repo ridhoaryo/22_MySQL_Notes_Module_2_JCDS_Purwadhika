{
 "cells": [
  {
   "cell_type": "code",
   "execution_count": 1,
   "metadata": {},
   "outputs": [],
   "source": [
    "import mysql.connector"
   ]
  },
  {
   "cell_type": "code",
   "execution_count": 11,
   "metadata": {},
   "outputs": [],
   "source": [
    "db = mysql.connector.connect(\n",
    "    host='localhost',\n",
    "    user='ridhoaryo',\n",
    "    passwd='do708091Mysql',\n",
    "    database='ptabc'\n",
    ")"
   ]
  },
  {
   "cell_type": "code",
   "execution_count": 13,
   "metadata": {
    "scrolled": true
   },
   "outputs": [
    {
     "name": "stdout",
     "output_type": "stream",
     "text": [
      "[(1, {'wanita'}, 'Ana', 'Jl. a', 5000000, datetime.datetime(2019, 11, 21, 9, 35, 24)), (2, {'pria'}, 'Joko', None, 5000000, datetime.datetime(2019, 11, 21, 9, 44, 15)), (4, {'wanita'}, 'Elsa', None, 5000000, datetime.datetime(2019, 11, 21, 9, 43, 29)), (5, {'pria'}, 'Joko', None, 5000000, datetime.datetime(2019, 11, 21, 9, 43, 29)), (6, None, 'Raka', None, 12000000, datetime.datetime(2019, 11, 21, 9, 57, 5)), (8, None, 'Budi', None, 15000000, datetime.datetime(2019, 11, 21, 12, 1, 2)), (9, None, 'Caca', None, 15000000, datetime.datetime(2019, 11, 21, 12, 1, 2))]\n"
     ]
    }
   ],
   "source": [
    "c = db.cursor()\n",
    "q = 'select * from karyawan'\n",
    "c.execute(q)\n",
    "out = c.fetchall()\n",
    "print(out)"
   ]
  },
  {
   "cell_type": "code",
   "execution_count": 8,
   "metadata": {},
   "outputs": [
    {
     "name": "stdout",
     "output_type": "stream",
     "text": [
      "<mysql.connector.connection_cext.CMySQLConnection object at 0x0000011B0A770F48>\n"
     ]
    }
   ],
   "source": [
    "print(db)"
   ]
  },
  {
   "cell_type": "code",
   "execution_count": 15,
   "metadata": {},
   "outputs": [],
   "source": [
    "q = 'insert into karyawan (nama) values (%s)'\n",
    "data = ('Andi',)\n",
    "c.execute(q, data)\n",
    "db.commit()"
   ]
  },
  {
   "cell_type": "code",
   "execution_count": null,
   "metadata": {},
   "outputs": [],
   "source": [
    "q = 'delete from karyawan where nama = %s'\n",
    "data = ('Andi',)\n",
    "c.execute(q, data)\n",
    "db.commit()"
   ]
  }
 ],
 "metadata": {
  "kernelspec": {
   "display_name": "Python 3",
   "language": "python",
   "name": "python3"
  },
  "language_info": {
   "codemirror_mode": {
    "name": "ipython",
    "version": 3
   },
   "file_extension": ".py",
   "mimetype": "text/x-python",
   "name": "python",
   "nbconvert_exporter": "python",
   "pygments_lexer": "ipython3",
   "version": "3.7.4"
  }
 },
 "nbformat": 4,
 "nbformat_minor": 2
}
